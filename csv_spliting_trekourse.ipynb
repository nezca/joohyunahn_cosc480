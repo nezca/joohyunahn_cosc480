{
 "cells": [
  {
   "cell_type": "code",
   "execution_count": 1,
   "metadata": {
    "collapsed": true,
    "jupyter": {
     "outputs_hidden": true,
     "source_hidden": true
    }
   },
   "outputs": [
    {
     "name": "stdout",
     "output_type": "stream",
     "text": [
      "In the case of the prototype, would you input number '3' for the difficulty?'\n"
     ]
    },
    {
     "name": "stdin",
     "output_type": "stream",
     "text": [
      "How much hard do you want to?  3\n"
     ]
    },
    {
     "name": "stdout",
     "output_type": "stream",
     "text": [
      "In the case of the prototype, would you input number '8000' for the distance?'\n"
     ]
    },
    {
     "name": "stdin",
     "output_type": "stream",
     "text": [
      "How long distance do you want to trek?  8000\n"
     ]
    },
    {
     "name": "stdout",
     "output_type": "stream",
     "text": [
      "In the case of the prototype, would you input number '5' for the nights?'\n"
     ]
    },
    {
     "name": "stdin",
     "output_type": "stream",
     "text": [
      "How many nights do you want to stay on the trail course?  5\n"
     ]
    },
    {
     "name": "stdout",
     "output_type": "stream",
     "text": [
      "     UID                            name        distance course_style  \\\n",
      "48   455        Kaimai Summit Loop Track    379.81 meter      one_way   \n",
      "50   531            Mt Burns Tarns Track    385.92 meter       return   \n",
      "52   111    Tomahawk Lagoon/41-Peg Track    402.25 meter      one_way   \n",
      "63   816              Te Hapua Bay Track    462.93 meter      one_way   \n",
      "66   396                Twin Kauri Track    475.37 meter      one_way   \n",
      "..   ...                             ...             ...          ...   \n",
      "621  540                   Parapara Peak  7.94 kilometer      one_way   \n",
      "622   78               Mt Fishtail Route  7.94 kilometer      one_way   \n",
      "623   12             Iron Gate Hut Track  7.95 kilometer      one_way   \n",
      "624  802              Lake Daniell Track  7.95 kilometer      one_way   \n",
      "626  932  Quartz Creek/Mount Royal Route  7.98 kilometer       return   \n",
      "\n",
      "       difficulty  \n",
      "48       Advanced  \n",
      "50       Advanced  \n",
      "52       Advanced  \n",
      "63       Advanced  \n",
      "66       Advanced  \n",
      "..            ...  \n",
      "621        Expert  \n",
      "622        Expert  \n",
      "623      Advanced  \n",
      "624  Intermediate  \n",
      "626        Expert  \n",
      "\n",
      "[204 rows x 5 columns]\n"
     ]
    }
   ],
   "source": [
    "# pandas import\n",
    "import pandas as pd\n",
    "\n",
    "csv_data_2 = pd.read_csv('Trekourse_dataset.csv', encoding='UTF8')\n",
    "print(\"In the case of the prototype, would you input number '3' for the difficulty?'\")\n",
    "difficulty = input(\"How much hard do you want to? \")\n",
    "\n",
    "print(\"In the case of the prototype, would you input number '8000' for the distance?'\")\n",
    "distance = input(\"How long distance do you want to trek? \")\n",
    "\n",
    "print(\"In the case of the prototype, would you input number '5' for the nights?'\")\n",
    "nights = input(\"How many nights do you want to stay on the trail course? \")\n",
    "\n",
    "results = csv_data_2[(csv_data_2.difficulty_level_1 >= float(difficulty)) &\n",
    "           (csv_data_2.duration_nights <= float(nights)) &\n",
    "           (csv_data_2.length <= float(distance))]\n",
    "\n",
    "filtered_results = results[['UID', 'name', 'distance', 'course_style', 'difficulty']]\n",
    "\n",
    "print(filtered_results)"
   ]
  },
  {
   "cell_type": "markdown",
   "metadata": {
    "jupyter": {
     "source_hidden": true
    }
   },
   "source": [
    "FLASK 이용 웹 구현\n",
    "https://blog.naver.com/PostView.nhn?blogId=poiulkj321&logNo=221367814773&parentCategoryNo=&categoryNo=14&viewDate=&isShowPopularPosts=true&from=search"
   ]
  },
  {
   "cell_type": "code",
   "execution_count": 3,
   "metadata": {},
   "outputs": [
    {
     "data": {
      "text/plain": [
       "UID                                                                     2\n",
       "X                                                                 176.075\n",
       "Y                                                                -38.7614\n",
       "name_second                                                           NaN\n",
       "introduction            These family friendly tracks stretch along the...\n",
       "difficulty                                                        Easiest\n",
       "completionTime                                               30 min - 1hr\n",
       "length                                                            5128.95\n",
       "difficulty_level_1                                                      1\n",
       "difficulty_level_1.1                                                    1\n",
       "course_style                                                      one_way\n",
       "duration_nights                                                         0\n",
       "duration_up_to_time                                                     1\n",
       "distance                                                   5.13 kilometer\n",
       "Name: Five Mile Bay and Awaroa Tracks, dtype: object"
      ]
     },
     "execution_count": 3,
     "metadata": {},
     "output_type": "execute_result"
    }
   ],
   "source": [
    "import pandas as pd\n",
    "\n",
    "csv_data_2 = pd.read_csv('Trekourse_dataset_original.csv', encoding='UTF8', index_col=\"name_first\")\n",
    "csv_data_2.iloc[1]"
   ]
  },
  {
   "cell_type": "code",
   "execution_count": 16,
   "metadata": {},
   "outputs": [
    {
     "data": {
      "text/plain": [
       "name\n",
       "Kauri Stump Walk                                        Easy\n",
       "Waiau Falls and Kauri Grove Lookout Walk             Easiest\n",
       "Pakotai Track                                           Easy\n",
       "Square Kauri Tree                                    Easiest\n",
       "Milford Sound Lookout Track                             Easy\n",
       "                                                  ...       \n",
       "Southern Circuit Stewart Island/Rakiura             Advanced\n",
       "Around the Mountain Circuit                  Advanced,Expert\n",
       "Pyke - Big Bay Route                                  Expert\n",
       "North West Circuit Stewart Island/Rakiura           Advanced\n",
       "Leslie-Karamea Track                                Advanced\n",
       "Name: difficulty, Length: 961, dtype: object"
      ]
     },
     "execution_count": 16,
     "metadata": {},
     "output_type": "execute_result"
    }
   ],
   "source": [
    "csv_data_2[\"difficulty\"]"
   ]
  },
  {
   "cell_type": "code",
   "execution_count": 19,
   "metadata": {},
   "outputs": [
    {
     "data": {
      "text/plain": [
       "UID                                                                   395\n",
       "X                                                                 175.547\n",
       "Y                                                                -36.8321\n",
       "introduction            Visit a popular swimming hole at Waiau Falls a...\n",
       "difficulty                                                        Easiest\n",
       "completionTime                                              30 min return\n",
       "length                                                              70.69\n",
       "difficulty_level_1                                                      1\n",
       "difficulty_level_1.1                                                    1\n",
       "course_style                                                       return\n",
       "duration_nights                                                         0\n",
       "duration_up_to_time                                                   0.5\n",
       "distance                                                      70.69 meter\n",
       "Name: Waiau Falls and Kauri Grove Lookout Walk, dtype: object"
      ]
     },
     "execution_count": 19,
     "metadata": {},
     "output_type": "execute_result"
    }
   ],
   "source": [
    "csv_data_2.iloc[1]"
   ]
  },
  {
   "cell_type": "code",
   "execution_count": 36,
   "metadata": {
    "collapsed": true,
    "jupyter": {
     "outputs_hidden": true,
     "source_hidden": true
    }
   },
   "outputs": [
    {
     "data": {
      "text/plain": [
       "['Kepler_Track']"
      ]
     },
     "execution_count": 36,
     "metadata": {},
     "output_type": "execute_result"
    }
   ],
   "source": [
    "# warning 없이 csv 데이터 한줄씩 읽어 내려가면서 csv로 다시 write하기\n",
    "\n",
    "import warnings\n",
    "warnings.simplefilter(action='ignore', category=FutureWarning)\n",
    "import pandas as pd\n",
    "\n",
    "a = []\n",
    "if \" \" in csv_data_2.iloc[0][3]:\n",
    "    a.append(csv_data_2.iloc[0][3].replace(\" \", \"_\"))\n",
    "a\n",
    "# csv_data_2.iloc[a].to_csv(\"tes\"+str(a)+\".csv\", index=False)"
   ]
  },
  {
   "cell_type": "code",
   "execution_count": 1,
   "metadata": {},
   "outputs": [],
   "source": [
    "import warnings\n",
    "warnings.simplefilter(action='ignore', category=FutureWarning)\n",
    "import pandas as pd\n",
    "\n",
    "csv_data_2 = pd.read_csv('Trekourse_dataset_operate.csv', encoding='UTF8')\n",
    "\n",
    "for i in range(len(csv_data_2)):\n",
    "    if \" \" in csv_data_2.iloc[i][2]:\n",
    "        csv_data_2.iloc[i].to_csv(str(csv_data_2.iloc[i][2].replace(\" \", \"_\"))+\"_\"+str(i)+\".csv\", index = False)"
   ]
  },
  {
   "cell_type": "code",
   "execution_count": 5,
   "metadata": {},
   "outputs": [
    {
     "name": "stdout",
     "output_type": "stream",
     "text": [
      "1. Course name : \n"
     ]
    }
   ],
   "source": [
    "# 파이선 기본 기능으로 데이터 셋 가지고 오기\n",
    "with open('Trekourse_dataset_operate.csv', encoding='UTF8') as file:\n",
    "    csv_data_1 = []\n",
    "    for line in file.readlines():\n",
    "        csv_data_1.append(line.split(','))\n",
    "    print(csv_data_1[1][1])"
   ]
  },
  {
   "cell_type": "code",
   "execution_count": 10,
   "metadata": {},
   "outputs": [
    {
     "data": {
      "text/plain": [
       "[['<p>',\n",
       "  '1. Course name : ',\n",
       "  'Urchin and Umukarikari tracks',\n",
       "  '</p>',\n",
       "  '<p>',\n",
       "  '2. Distance : ',\n",
       "  '24.95 kilometer',\n",
       "  '</p>',\n",
       "  '<p>',\n",
       "  '3. Duration : ',\n",
       "  '1 - 2 days',\n",
       "  '</p>',\n",
       "  '<p>',\n",
       "  '4. Overnight : ',\n",
       "  '1',\n",
       "  ' nights',\n",
       "  '</p>',\n",
       "  '<p>',\n",
       "  '5. Difficulty : ',\n",
       "  'Advanced',\n",
       "  '</p>',\n",
       "  '<p>',\n",
       "  '6. Course style : ',\n",
       "  'one_way',\n",
       "  '</p>',\n",
       "  '<p>',\n",
       "  '7. Coordinates : longitude ',\n",
       "  '175.8928',\n",
       "  ' and latitude ',\n",
       "  '-39.1503',\n",
       "  '</p>',\n",
       "  '<br>',\n",
       "  '<h3>',\n",
       "  '*** Trekourse Review ***',\n",
       "  '</h3>',\n",
       "  '<p>',\n",
       "  'Climb above the bush line to the exposed alpine ridge of   Umukarikari and Mount Urchin. Enjoy fantastic views and access the Waipakihi valley and hut.\\n'],\n",
       " ['<p>',\n",
       "  '1. Course name : ',\n",
       "  'Catlins River Wisp Loop Track',\n",
       "  '</p>',\n",
       "  '<p>',\n",
       "  '2. Distance : ',\n",
       "  '13.18 kilometer',\n",
       "  '</p>',\n",
       "  '<p>',\n",
       "  '3. Duration : ',\n",
       "  'One long or two shorter days',\n",
       "  '</p>',\n",
       "  '<p>',\n",
       "  '4. Overnight : ',\n",
       "  '1',\n",
       "  ' nights',\n",
       "  '</p>',\n",
       "  '<p>',\n",
       "  '5. Difficulty : ',\n",
       "  'Advanced',\n",
       "  '</p>',\n",
       "  '<p>',\n",
       "  '6. Course style : ',\n",
       "  'one_way',\n",
       "  '</p>',\n",
       "  '<p>',\n",
       "  '7. Coordinates : longitude ',\n",
       "  '169.459',\n",
       "  ' and latitude ',\n",
       "  '-46.4388',\n",
       "  '</p>',\n",
       "  '<br>',\n",
       "  '<h3>',\n",
       "  '*** Trekourse Review ***',\n",
       "  '</h3>',\n",
       "  '<p>',\n",
       "  '\"An attractive',\n",
       "  ' forest-lined river walk of three sections that has several natural features and access to good fishing. \"\\n'],\n",
       " ['<p>',\n",
       "  '1. Course name : ',\n",
       "  'Wharfedale Hut tracks',\n",
       "  '</p>',\n",
       "  '<p>',\n",
       "  '2. Distance : ',\n",
       "  '14.2 kilometer',\n",
       "  '</p>',\n",
       "  '<p>',\n",
       "  '3. Duration : ',\n",
       "  '1–2 days',\n",
       "  '</p>',\n",
       "  '<p>',\n",
       "  '4. Overnight : ',\n",
       "  '1',\n",
       "  ' nights',\n",
       "  '</p>',\n",
       "  '<p>',\n",
       "  '5. Difficulty : ',\n",
       "  'Intermediate',\n",
       "  '</p>',\n",
       "  '<p>',\n",
       "  '6. Course style : ',\n",
       "  'one_way',\n",
       "  '</p>',\n",
       "  '<p>',\n",
       "  '7. Coordinates : longitude ',\n",
       "  '172.0383',\n",
       "  ' and latitude ',\n",
       "  '-43.2245',\n",
       "  '</p>',\n",
       "  '<br>',\n",
       "  '<h3>',\n",
       "  '*** Trekourse Review ***',\n",
       "  '</h3>',\n",
       "  '<p>',\n",
       "  'Walk or mountain bike to Wharfedale Hut.\\n'],\n",
       " ['<p>',\n",
       "  '1. Course name : ',\n",
       "  'Te Puia Hut Track and Mangatainoka Hot Springs',\n",
       "  '</p>',\n",
       "  '<p>',\n",
       "  '2. Distance : ',\n",
       "  '8.82 kilometer',\n",
       "  '</p>',\n",
       "  '<p>',\n",
       "  '3. Duration : ',\n",
       "  '1–2 days',\n",
       "  '</p>',\n",
       "  '<p>',\n",
       "  '4. Overnight : ',\n",
       "  '1',\n",
       "  ' nights',\n",
       "  '</p>',\n",
       "  '<p>',\n",
       "  '5. Difficulty : ',\n",
       "  'Intermediate',\n",
       "  '</p>',\n",
       "  '<p>',\n",
       "  '6. Course style : ',\n",
       "  'one_way',\n",
       "  '</p>',\n",
       "  '<p>',\n",
       "  '7. Coordinates : longitude ',\n",
       "  '176.4195',\n",
       "  ' and latitude ',\n",
       "  '-39.1781',\n",
       "  '</p>',\n",
       "  '<br>',\n",
       "  '<h3>',\n",
       "  '*** Trekourse Review ***',\n",
       "  '</h3>',\n",
       "  '<p>',\n",
       "  '\"Walk to Te Puia Hut for an easy overnight tramp',\n",
       "  ' or continue on to hot springs surrounded by bush and with river views.\"\\n'],\n",
       " ['<p>',\n",
       "  '1. Course name : ',\n",
       "  'Croesus Track',\n",
       "  '</p>',\n",
       "  '<p>',\n",
       "  '2. Distance : ',\n",
       "  '22.51 kilometer',\n",
       "  '</p>',\n",
       "  '<p>',\n",
       "  '3. Duration : ',\n",
       "  '1-2 days',\n",
       "  '</p>',\n",
       "  '<p>',\n",
       "  '4. Overnight : ',\n",
       "  '1',\n",
       "  ' nights',\n",
       "  '</p>',\n",
       "  '<p>',\n",
       "  '5. Difficulty : ',\n",
       "  'Advanced',\n",
       "  '</p>',\n",
       "  '<p>',\n",
       "  '6. Course style : ',\n",
       "  'one_way',\n",
       "  '</p>',\n",
       "  '<p>',\n",
       "  '7. Coordinates : longitude ',\n",
       "  '171.3782',\n",
       "  ' and latitude ',\n",
       "  '-42.2899',\n",
       "  '</p>',\n",
       "  '<br>',\n",
       "  '<h3>',\n",
       "  '*** Trekourse Review ***',\n",
       "  '</h3>',\n",
       "  '<p>',\n",
       "  '\"Croesus Track is one of the finest surviving examples of a miners\\' track (1881) on the West Coast. Visitors can also experience what life was like for miners by staying in historic Croesus Top Hut',\n",
       "  ' or by visiting the Garden Gully Hut.\"\\n'],\n",
       " ['<p>',\n",
       "  '1. Course name : ',\n",
       "  'Cascade Saddle Route',\n",
       "  '</p>',\n",
       "  '<p>',\n",
       "  '2. Distance : ',\n",
       "  '15.48 kilometer',\n",
       "  '</p>',\n",
       "  '<p>',\n",
       "  '3. Duration : ',\n",
       "  '1 - 2 days to cross saddle',\n",
       "  '</p>',\n",
       "  '<p>',\n",
       "  '4. Overnight : ',\n",
       "  '1',\n",
       "  ' nights',\n",
       "  '</p>',\n",
       "  '<p>',\n",
       "  '5. Difficulty : ',\n",
       "  'Expert',\n",
       "  '</p>',\n",
       "  '<p>',\n",
       "  '6. Course style : ',\n",
       "  'one_way',\n",
       "  '</p>',\n",
       "  '<p>',\n",
       "  '7. Coordinates : longitude ',\n",
       "  '168.6299',\n",
       "  ' and latitude ',\n",
       "  '-44.4936',\n",
       "  '</p>',\n",
       "  '<br>',\n",
       "  '<h3>',\n",
       "  '*** Trekourse Review ***',\n",
       "  '</h3>',\n",
       "  '<p>',\n",
       "  'The Cascade Saddle Route is an alpine crossing between the West Matukituki and the Dart valleys in Te Wahipounamu – South West New Zealand World Heritage Area.\\n'],\n",
       " ['<p>',\n",
       "  '1. Course name : ',\n",
       "  'Pirongia summit via Mahaukura and Tirohanga Tracks',\n",
       "  '</p>',\n",
       "  '<p>',\n",
       "  '2. Distance : ',\n",
       "  '13.39 kilometer',\n",
       "  '</p>',\n",
       "  '<p>',\n",
       "  '3. Duration : ',\n",
       "  '1 - 2 days',\n",
       "  '</p>',\n",
       "  '<p>',\n",
       "  '4. Overnight : ',\n",
       "  '1',\n",
       "  ' nights',\n",
       "  '</p>',\n",
       "  '<p>',\n",
       "  '5. Difficulty : ',\n",
       "  'Advanced',\n",
       "  '</p>',\n",
       "  '<p>',\n",
       "  '6. Course style : ',\n",
       "  'one_way',\n",
       "  '</p>',\n",
       "  '<p>',\n",
       "  '7. Coordinates : longitude ',\n",
       "  '175.1278',\n",
       "  ' and latitude ',\n",
       "  '-37.9814',\n",
       "  '</p>',\n",
       "  '<br>',\n",
       "  '<h3>',\n",
       "  '*** Trekourse Review ***',\n",
       "  '</h3>',\n",
       "  '<p>',\n",
       "  '\"Choose a there-and-back track to the summit of Mount Pirongia',\n",
       "  ' or combine the tracks for a circuit trip to Pahautea Hut.\"\\n'],\n",
       " ['<p>',\n",
       "  '1. Course name : ',\n",
       "  'Lake Waikaremoana',\n",
       "  '</p>',\n",
       "  '<p>',\n",
       "  '2. Distance : ',\n",
       "  '8.55 kilometer',\n",
       "  '</p>',\n",
       "  '<p>',\n",
       "  '3. Duration : ',\n",
       "  '1-2 days',\n",
       "  '</p>',\n",
       "  '<p>',\n",
       "  '4. Overnight : ',\n",
       "  '1',\n",
       "  ' nights',\n",
       "  '</p>',\n",
       "  '<p>',\n",
       "  '5. Difficulty : ',\n",
       "  'Intermediate',\n",
       "  '</p>',\n",
       "  '<p>',\n",
       "  '6. Course style : ',\n",
       "  'one_way',\n",
       "  '</p>',\n",
       "  '<p>',\n",
       "  '7. Coordinates : longitude ',\n",
       "  '177.0842',\n",
       "  ' and latitude ',\n",
       "  '-38.7922',\n",
       "  '</p>',\n",
       "  '<br>',\n",
       "  '<h3>',\n",
       "  '*** Trekourse Review ***',\n",
       "  '</h3>',\n",
       "  '<p>',\n",
       "  'Climb up to Panekire Bluffs for magnificant views of Lake Waikaremoana and the surrounding mountains.\\n'],\n",
       " ['<p>',\n",
       "  '1. Course name : ',\n",
       "  'Waikawau Track ',\n",
       "  '</p>',\n",
       "  '<p>',\n",
       "  '2. Distance : ',\n",
       "  '10.71 kilometer',\n",
       "  '</p>',\n",
       "  '<p>',\n",
       "  '3. Duration : ',\n",
       "  '14 hr',\n",
       "  '</p>',\n",
       "  '<p>',\n",
       "  '4. Overnight : ',\n",
       "  '1',\n",
       "  ' nights',\n",
       "  '</p>',\n",
       "  '<p>',\n",
       "  '5. Difficulty : ',\n",
       "  'Advanced',\n",
       "  '</p>',\n",
       "  '<p>',\n",
       "  '6. Course style : ',\n",
       "  'one_way',\n",
       "  '</p>',\n",
       "  '<p>',\n",
       "  '7. Coordinates : longitude ',\n",
       "  '174.7264',\n",
       "  ' and latitude ',\n",
       "  '-38.4601',\n",
       "  '</p>',\n",
       "  '<br>',\n",
       "  '<h3>',\n",
       "  '*** Trekourse Review ***',\n",
       "  '</h3>',\n",
       "  '<p>',\n",
       "  \"This route for intrepid trampers is the longest track to Leitch's Hut. \\n\"]]"
      ]
     },
     "execution_count": 10,
     "metadata": {},
     "output_type": "execute_result"
    }
   ],
   "source": [
    "name = '1'\n",
    "new = []\n",
    "try:    \n",
    "    for i in range(len(csv_data_1)):    \n",
    "        if name == csv_data_1[i][14]:\n",
    "            new.append(csv_data_1[i])\n",
    "except IndexError:\n",
    "    pass\n",
    "new    "
   ]
  },
  {
   "cell_type": "code",
   "execution_count": null,
   "metadata": {},
   "outputs": [],
   "source": []
  }
 ],
 "metadata": {
  "kernelspec": {
   "display_name": "Python 3",
   "language": "python",
   "name": "python3"
  },
  "language_info": {
   "codemirror_mode": {
    "name": "ipython",
    "version": 3
   },
   "file_extension": ".py",
   "mimetype": "text/x-python",
   "name": "python",
   "nbconvert_exporter": "python",
   "pygments_lexer": "ipython3",
   "version": "3.6.7"
  }
 },
 "nbformat": 4,
 "nbformat_minor": 4
}
